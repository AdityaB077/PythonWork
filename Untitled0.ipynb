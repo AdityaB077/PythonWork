{
  "nbformat": 4,
  "nbformat_minor": 0,
  "metadata": {
    "colab": {
      "provenance": [],
      "authorship_tag": "ABX9TyOd1QlmLaaM2sjpLpuz4Yzc",
      "include_colab_link": true
    },
    "kernelspec": {
      "name": "python3",
      "display_name": "Python 3"
    },
    "language_info": {
      "name": "python"
    }
  },
  "cells": [
    {
      "cell_type": "markdown",
      "metadata": {
        "id": "view-in-github",
        "colab_type": "text"
      },
      "source": [
        "<a href=\"https://colab.research.google.com/github/AdityaB077/PythonWork/blob/main/Untitled0.ipynb\" target=\"_parent\"><img src=\"https://colab.research.google.com/assets/colab-badge.svg\" alt=\"Open In Colab\"/></a>"
      ]
    },
    {
      "cell_type": "code",
      "execution_count": null,
      "metadata": {
        "colab": {
          "base_uri": "https://localhost:8080/"
        },
        "id": "MkbwOGaoyWzc",
        "outputId": "2c1e53af-9294-4c8d-ecec-698150fbc942"
      },
      "outputs": [
        {
          "output_type": "stream",
          "name": "stdout",
          "text": [
            "Hello\n"
          ]
        }
      ],
      "source": [
        "print(\"Hello\")"
      ]
    },
    {
      "cell_type": "code",
      "source": [
        "a=int(input(\"enter the number\")) \n",
        "if(a!=4):\n",
        "   print(\"Your life choices are bad\")\n",
        "else: \n",
        "  print(\"Your Great!\")"
      ],
      "metadata": {
        "colab": {
          "base_uri": "https://localhost:8080/"
        },
        "id": "U1BeZ5kNzOe1",
        "outputId": "ffba58ba-992c-4383-f54a-e99fb66fc486"
      },
      "execution_count": null,
      "outputs": [
        {
          "output_type": "stream",
          "name": "stdout",
          "text": [
            "enter the number69420\n",
            "Your Great\n"
          ]
        }
      ]
    },
    {
      "cell_type": "markdown",
      "source": [
        "a=int(input(\"enter the number\"))\n",
        "if(a!=4):\n",
        " print(\"Your life choices are bad\")\n",
        "else:\n",
        " print(\"Your Great\")"
      ],
      "metadata": {
        "id": "FMTo1uQiytI1"
      }
    }
  ]
}